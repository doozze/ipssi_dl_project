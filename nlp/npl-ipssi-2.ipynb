{
 "metadata": {
  "kernelspec": {
   "language": "python",
   "display_name": "Python 3",
   "name": "python3"
  },
  "language_info": {
   "name": "python",
   "version": "3.7.12",
   "mimetype": "text/x-python",
   "codemirror_mode": {
    "name": "ipython",
    "version": 3
   },
   "pygments_lexer": "ipython3",
   "nbconvert_exporter": "python",
   "file_extension": ".py"
  }
 },
 "nbformat_minor": 4,
 "nbformat": 4,
 "cells": [
  {
   "cell_type": "markdown",
   "source": [
    "## **Importing Basic Libraries**"
   ],
   "metadata": {}
  },
  {
   "cell_type": "code",
   "source": [
    "import pandas as pd\n",
    "import numpy as np"
   ],
   "metadata": {
    "_uuid": "8f2839f25d086af736a60e9eeb907d3b93b6e0e5",
    "_cell_guid": "b1076dfc-b9ad-4769-8c92-a6c4dae69d19",
    "execution": {
     "iopub.status.busy": "2023-06-02T14:24:39.502617Z",
     "iopub.execute_input": "2023-06-02T14:24:39.503650Z",
     "iopub.status.idle": "2023-06-02T14:24:39.542944Z",
     "shell.execute_reply.started": "2023-06-02T14:24:39.503595Z",
     "shell.execute_reply": "2023-06-02T14:24:39.541726Z"
    },
    "trusted": true,
    "ExecuteTime": {
     "end_time": "2023-06-05T13:49:05.044511700Z",
     "start_time": "2023-06-05T13:49:04.503172800Z"
    }
   },
   "execution_count": 1,
   "outputs": []
  },
  {
   "cell_type": "markdown",
   "source": [
    "## **Reading Train, Test and Val data**"
   ],
   "metadata": {}
  },
  {
   "cell_type": "markdown",
   "source": [
    "### Train Data"
   ],
   "metadata": {}
  },
  {
   "cell_type": "code",
   "source": [
    "df_train = pd.read_csv('datasets/train.txt',sep = ';', names = ['comment', 'emotion'])\n",
    "df_train.head()"
   ],
   "metadata": {
    "execution": {
     "iopub.status.busy": "2023-06-02T14:24:44.585780Z",
     "iopub.execute_input": "2023-06-02T14:24:44.586309Z",
     "iopub.status.idle": "2023-06-02T14:24:44.706063Z",
     "shell.execute_reply.started": "2023-06-02T14:24:44.586267Z",
     "shell.execute_reply": "2023-06-02T14:24:44.704221Z"
    },
    "trusted": true,
    "ExecuteTime": {
     "end_time": "2023-06-05T13:49:07.279590200Z",
     "start_time": "2023-06-05T13:49:07.239268200Z"
    }
   },
   "execution_count": 2,
   "outputs": [
    {
     "data": {
      "text/plain": "                                             comment  emotion\n0                            i didnt feel humiliated  sadness\n1  i can go from feeling so hopeless to so damned...  sadness\n2   im grabbing a minute to post i feel greedy wrong    anger\n3  i am ever feeling nostalgic about the fireplac...     love\n4                               i am feeling grouchy    anger",
      "text/html": "<div>\n<style scoped>\n    .dataframe tbody tr th:only-of-type {\n        vertical-align: middle;\n    }\n\n    .dataframe tbody tr th {\n        vertical-align: top;\n    }\n\n    .dataframe thead th {\n        text-align: right;\n    }\n</style>\n<table border=\"1\" class=\"dataframe\">\n  <thead>\n    <tr style=\"text-align: right;\">\n      <th></th>\n      <th>comment</th>\n      <th>emotion</th>\n    </tr>\n  </thead>\n  <tbody>\n    <tr>\n      <th>0</th>\n      <td>i didnt feel humiliated</td>\n      <td>sadness</td>\n    </tr>\n    <tr>\n      <th>1</th>\n      <td>i can go from feeling so hopeless to so damned...</td>\n      <td>sadness</td>\n    </tr>\n    <tr>\n      <th>2</th>\n      <td>im grabbing a minute to post i feel greedy wrong</td>\n      <td>anger</td>\n    </tr>\n    <tr>\n      <th>3</th>\n      <td>i am ever feeling nostalgic about the fireplac...</td>\n      <td>love</td>\n    </tr>\n    <tr>\n      <th>4</th>\n      <td>i am feeling grouchy</td>\n      <td>anger</td>\n    </tr>\n  </tbody>\n</table>\n</div>"
     },
     "execution_count": 2,
     "metadata": {},
     "output_type": "execute_result"
    }
   ]
  },
  {
   "cell_type": "code",
   "source": [
    "df_train.emotion.value_counts()"
   ],
   "metadata": {
    "execution": {
     "iopub.status.busy": "2023-06-02T14:24:45.062480Z",
     "iopub.execute_input": "2023-06-02T14:24:45.063763Z",
     "iopub.status.idle": "2023-06-02T14:24:45.082626Z",
     "shell.execute_reply.started": "2023-06-02T14:24:45.063689Z",
     "shell.execute_reply": "2023-06-02T14:24:45.081581Z"
    },
    "trusted": true,
    "ExecuteTime": {
     "end_time": "2023-06-05T13:49:09.512232900Z",
     "start_time": "2023-06-05T13:49:09.488644Z"
    }
   },
   "execution_count": 3,
   "outputs": [
    {
     "data": {
      "text/plain": "joy         5362\nsadness     4666\nanger       2159\nfear        1937\nlove        1304\nsurprise     572\nName: emotion, dtype: int64"
     },
     "execution_count": 3,
     "metadata": {},
     "output_type": "execute_result"
    }
   ]
  },
  {
   "cell_type": "markdown",
   "source": [
    "### Test Data"
   ],
   "metadata": {}
  },
  {
   "cell_type": "code",
   "source": [
    "df_test = pd.read_csv('datasets/test.txt',sep = ';', names = ['comment', 'emotion'])\n",
    "df_test.head()"
   ],
   "metadata": {
    "execution": {
     "iopub.status.busy": "2023-06-02T14:24:46.261528Z",
     "iopub.execute_input": "2023-06-02T14:24:46.263085Z",
     "iopub.status.idle": "2023-06-02T14:24:46.297475Z",
     "shell.execute_reply.started": "2023-06-02T14:24:46.263024Z",
     "shell.execute_reply": "2023-06-02T14:24:46.295900Z"
    },
    "trusted": true,
    "ExecuteTime": {
     "end_time": "2023-06-05T13:49:13.246249Z",
     "start_time": "2023-06-05T13:49:13.233237600Z"
    }
   },
   "execution_count": 4,
   "outputs": [
    {
     "data": {
      "text/plain": "                                             comment  emotion\n0  im feeling rather rotten so im not very ambiti...  sadness\n1          im updating my blog because i feel shitty  sadness\n2  i never make her separate from me because i do...  sadness\n3  i left with my bouquet of red and yellow tulip...      joy\n4    i was feeling a little vain when i did this one  sadness",
      "text/html": "<div>\n<style scoped>\n    .dataframe tbody tr th:only-of-type {\n        vertical-align: middle;\n    }\n\n    .dataframe tbody tr th {\n        vertical-align: top;\n    }\n\n    .dataframe thead th {\n        text-align: right;\n    }\n</style>\n<table border=\"1\" class=\"dataframe\">\n  <thead>\n    <tr style=\"text-align: right;\">\n      <th></th>\n      <th>comment</th>\n      <th>emotion</th>\n    </tr>\n  </thead>\n  <tbody>\n    <tr>\n      <th>0</th>\n      <td>im feeling rather rotten so im not very ambiti...</td>\n      <td>sadness</td>\n    </tr>\n    <tr>\n      <th>1</th>\n      <td>im updating my blog because i feel shitty</td>\n      <td>sadness</td>\n    </tr>\n    <tr>\n      <th>2</th>\n      <td>i never make her separate from me because i do...</td>\n      <td>sadness</td>\n    </tr>\n    <tr>\n      <th>3</th>\n      <td>i left with my bouquet of red and yellow tulip...</td>\n      <td>joy</td>\n    </tr>\n    <tr>\n      <th>4</th>\n      <td>i was feeling a little vain when i did this one</td>\n      <td>sadness</td>\n    </tr>\n  </tbody>\n</table>\n</div>"
     },
     "execution_count": 4,
     "metadata": {},
     "output_type": "execute_result"
    }
   ]
  },
  {
   "cell_type": "code",
   "source": [
    "df_test.emotion.value_counts()"
   ],
   "metadata": {
    "execution": {
     "iopub.status.busy": "2023-06-02T14:24:46.671960Z",
     "iopub.execute_input": "2023-06-02T14:24:46.672414Z",
     "iopub.status.idle": "2023-06-02T14:24:46.683804Z",
     "shell.execute_reply.started": "2023-06-02T14:24:46.672373Z",
     "shell.execute_reply": "2023-06-02T14:24:46.682381Z"
    },
    "trusted": true,
    "ExecuteTime": {
     "end_time": "2023-06-05T13:49:15.768450100Z",
     "start_time": "2023-06-05T13:49:15.743595600Z"
    }
   },
   "execution_count": 5,
   "outputs": [
    {
     "data": {
      "text/plain": "joy         695\nsadness     581\nanger       275\nfear        224\nlove        159\nsurprise     66\nName: emotion, dtype: int64"
     },
     "execution_count": 5,
     "metadata": {},
     "output_type": "execute_result"
    }
   ]
  },
  {
   "cell_type": "markdown",
   "source": [
    "### Val Data"
   ],
   "metadata": {}
  },
  {
   "cell_type": "code",
   "source": [
    "df_val = pd.read_csv('datasets/val.txt',sep = ';', names = ['comment', 'emotion'])\n",
    "df_val.head()"
   ],
   "metadata": {
    "execution": {
     "iopub.status.busy": "2023-06-02T14:24:47.371445Z",
     "iopub.execute_input": "2023-06-02T14:24:47.372117Z",
     "iopub.status.idle": "2023-06-02T14:24:47.408424Z",
     "shell.execute_reply.started": "2023-06-02T14:24:47.372071Z",
     "shell.execute_reply": "2023-06-02T14:24:47.407063Z"
    },
    "trusted": true,
    "ExecuteTime": {
     "end_time": "2023-06-05T13:49:20.879873800Z",
     "start_time": "2023-06-05T13:49:20.848388100Z"
    }
   },
   "execution_count": 6,
   "outputs": [
    {
     "data": {
      "text/plain": "                                             comment  emotion\n0  im feeling quite sad and sorry for myself but ...  sadness\n1  i feel like i am still looking at a blank canv...  sadness\n2                     i feel like a faithful servant     love\n3                  i am just feeling cranky and blue    anger\n4  i can have for a treat or if i am feeling festive      joy",
      "text/html": "<div>\n<style scoped>\n    .dataframe tbody tr th:only-of-type {\n        vertical-align: middle;\n    }\n\n    .dataframe tbody tr th {\n        vertical-align: top;\n    }\n\n    .dataframe thead th {\n        text-align: right;\n    }\n</style>\n<table border=\"1\" class=\"dataframe\">\n  <thead>\n    <tr style=\"text-align: right;\">\n      <th></th>\n      <th>comment</th>\n      <th>emotion</th>\n    </tr>\n  </thead>\n  <tbody>\n    <tr>\n      <th>0</th>\n      <td>im feeling quite sad and sorry for myself but ...</td>\n      <td>sadness</td>\n    </tr>\n    <tr>\n      <th>1</th>\n      <td>i feel like i am still looking at a blank canv...</td>\n      <td>sadness</td>\n    </tr>\n    <tr>\n      <th>2</th>\n      <td>i feel like a faithful servant</td>\n      <td>love</td>\n    </tr>\n    <tr>\n      <th>3</th>\n      <td>i am just feeling cranky and blue</td>\n      <td>anger</td>\n    </tr>\n    <tr>\n      <th>4</th>\n      <td>i can have for a treat or if i am feeling festive</td>\n      <td>joy</td>\n    </tr>\n  </tbody>\n</table>\n</div>"
     },
     "execution_count": 6,
     "metadata": {},
     "output_type": "execute_result"
    }
   ]
  },
  {
   "cell_type": "code",
   "source": [
    "df_val.emotion.value_counts()"
   ],
   "metadata": {
    "execution": {
     "iopub.status.busy": "2023-06-02T14:24:47.622081Z",
     "iopub.execute_input": "2023-06-02T14:24:47.622563Z",
     "iopub.status.idle": "2023-06-02T14:24:47.635257Z",
     "shell.execute_reply.started": "2023-06-02T14:24:47.622521Z",
     "shell.execute_reply": "2023-06-02T14:24:47.633286Z"
    },
    "trusted": true,
    "ExecuteTime": {
     "end_time": "2023-06-05T13:49:32.349935900Z",
     "start_time": "2023-06-05T13:49:32.310497700Z"
    }
   },
   "execution_count": 8,
   "outputs": [
    {
     "data": {
      "text/plain": "joy         704\nsadness     550\nanger       275\nfear        212\nlove        178\nsurprise     81\nName: emotion, dtype: int64"
     },
     "execution_count": 8,
     "metadata": {},
     "output_type": "execute_result"
    }
   ]
  },
  {
   "cell_type": "markdown",
   "source": [
    "## **Mapping Numbers to Emotions**"
   ],
   "metadata": {}
  },
  {
   "cell_type": "markdown",
   "source": [
    "### Train"
   ],
   "metadata": {}
  },
  {
   "cell_type": "code",
   "source": [
    "emotions = {'joy': 0, 'sadness': 1, 'anger': 2, 'fear': 3, 'love':4, 'surprise':5}\n",
    "\n",
    "df_train['map']= df_train.emotion.map(emotions)\n",
    "df_test['map']= df_test.emotion.map(emotions)\n",
    "df_val['map']= df_val.emotion.map(emotions)\n"
   ],
   "metadata": {
    "execution": {
     "iopub.status.busy": "2023-06-02T14:33:39.284255Z",
     "iopub.execute_input": "2023-06-02T14:33:39.284873Z",
     "iopub.status.idle": "2023-06-02T14:33:39.302336Z",
     "shell.execute_reply.started": "2023-06-02T14:33:39.284825Z",
     "shell.execute_reply": "2023-06-02T14:33:39.300956Z"
    },
    "trusted": true,
    "ExecuteTime": {
     "end_time": "2023-06-05T13:50:09.531562300Z",
     "start_time": "2023-06-05T13:50:09.522393900Z"
    }
   },
   "execution_count": 9,
   "outputs": []
  },
  {
   "cell_type": "markdown",
   "source": [
    "## **Using Spacy**"
   ],
   "metadata": {}
  },
  {
   "cell_type": "markdown",
   "source": [
    "### Creating a function to preprocess text using spacy"
   ],
   "metadata": {}
  },
  {
   "cell_type": "code",
   "execution_count": 10,
   "outputs": [],
   "source": [
    "import spacy"
   ],
   "metadata": {
    "collapsed": false,
    "ExecuteTime": {
     "end_time": "2023-06-05T13:50:16.422546700Z",
     "start_time": "2023-06-05T13:50:15.477901500Z"
    }
   }
  },
  {
   "cell_type": "code",
   "source": [
    "#import spacy\n",
    "\n",
    "nlp = spacy.load('en_core_web_sm')\n",
    "\n",
    "def preprocess(text):\n",
    "    list =[]\n",
    "    for token in nlp(text):\n",
    "        if not token.is_space and not token.is_punct:\n",
    "            list.append(token.lemma_)\n",
    "    return ' '.join(list)"
   ],
   "metadata": {
    "execution": {
     "iopub.status.busy": "2023-06-02T14:24:50.978416Z",
     "iopub.execute_input": "2023-06-02T14:24:50.978949Z",
     "iopub.status.idle": "2023-06-02T14:25:11.477025Z",
     "shell.execute_reply.started": "2023-06-02T14:24:50.978901Z",
     "shell.execute_reply": "2023-06-02T14:25:11.475416Z"
    },
    "trusted": true,
    "ExecuteTime": {
     "end_time": "2023-06-05T13:50:20.230010100Z",
     "start_time": "2023-06-05T13:50:19.797522900Z"
    }
   },
   "execution_count": 11,
   "outputs": []
  },
  {
   "cell_type": "code",
   "source": [
    "df_train['preprocessed_comment']= df_train.comment.apply(preprocess)\n",
    "df_test['preprocessed_comment']= df_test.comment.apply(preprocess)\n",
    "df_val['preprocessed_comment']= df_val.comment.apply(preprocess)"
   ],
   "metadata": {
    "execution": {
     "iopub.status.busy": "2023-06-02T14:25:11.479457Z",
     "iopub.execute_input": "2023-06-02T14:25:11.480261Z",
     "iopub.status.idle": "2023-06-02T14:28:49.825307Z",
     "shell.execute_reply.started": "2023-06-02T14:25:11.480218Z",
     "shell.execute_reply": "2023-06-02T14:28:49.823766Z"
    },
    "trusted": true,
    "ExecuteTime": {
     "end_time": "2023-06-05T13:52:15.317728900Z",
     "start_time": "2023-06-05T13:50:37.118470200Z"
    }
   },
   "execution_count": 12,
   "outputs": []
  },
  {
   "cell_type": "markdown",
   "source": [
    "## **Training , Testing and Validating data**"
   ],
   "metadata": {}
  },
  {
   "cell_type": "code",
   "source": [
    "X_train = df_train['preprocessed_comment']\n",
    "X_train.head()"
   ],
   "metadata": {
    "execution": {
     "iopub.status.busy": "2023-06-02T14:28:49.889781Z",
     "iopub.execute_input": "2023-06-02T14:28:49.890188Z",
     "iopub.status.idle": "2023-06-02T14:28:49.904042Z",
     "shell.execute_reply.started": "2023-06-02T14:28:49.890152Z",
     "shell.execute_reply": "2023-06-02T14:28:49.902510Z"
    },
    "trusted": true,
    "ExecuteTime": {
     "end_time": "2023-06-05T13:52:27.522793400Z",
     "start_time": "2023-06-05T13:52:27.507720200Z"
    }
   },
   "execution_count": 15,
   "outputs": [
    {
     "data": {
      "text/plain": "0                              I do not feel humiliate\n1    I can go from feel so hopeless to so damned ho...\n2        I m grab a minute to post I feel greedy wrong\n3    I be ever feel nostalgic about the fireplace I...\n4                                    I be feel grouchy\nName: preprocessed_comment, dtype: object"
     },
     "execution_count": 15,
     "metadata": {},
     "output_type": "execute_result"
    }
   ]
  },
  {
   "cell_type": "code",
   "source": [
    "y_train = df_train['map']\n",
    "y_train.head()"
   ],
   "metadata": {
    "execution": {
     "iopub.status.busy": "2023-06-02T14:28:49.906231Z",
     "iopub.execute_input": "2023-06-02T14:28:49.906857Z",
     "iopub.status.idle": "2023-06-02T14:28:49.920506Z",
     "shell.execute_reply.started": "2023-06-02T14:28:49.906810Z",
     "shell.execute_reply": "2023-06-02T14:28:49.919131Z"
    },
    "trusted": true,
    "ExecuteTime": {
     "end_time": "2023-06-05T13:52:29.470807900Z",
     "start_time": "2023-06-05T13:52:29.464712200Z"
    }
   },
   "execution_count": 16,
   "outputs": [
    {
     "data": {
      "text/plain": "0    1\n1    1\n2    2\n3    4\n4    2\nName: map, dtype: int64"
     },
     "execution_count": 16,
     "metadata": {},
     "output_type": "execute_result"
    }
   ]
  },
  {
   "cell_type": "code",
   "source": [
    "X_test = df_test['preprocessed_comment']\n",
    "X_test.head()"
   ],
   "metadata": {
    "execution": {
     "iopub.status.busy": "2023-06-02T14:28:49.922506Z",
     "iopub.execute_input": "2023-06-02T14:28:49.923373Z",
     "iopub.status.idle": "2023-06-02T14:28:49.935631Z",
     "shell.execute_reply.started": "2023-06-02T14:28:49.923327Z",
     "shell.execute_reply": "2023-06-02T14:28:49.934378Z"
    },
    "trusted": true,
    "ExecuteTime": {
     "end_time": "2023-06-05T13:52:31.512818700Z",
     "start_time": "2023-06-05T13:52:31.466709600Z"
    }
   },
   "execution_count": 17,
   "outputs": [
    {
     "data": {
      "text/plain": "0    I m feel rather rotten so I m not very ambitio...\n1             I m update my blog because I feel shitty\n2    I never make she separate from I because I don...\n3    I leave with my bouquet of red and yellow tuli...\n4           I be feel a little vain when I do this one\nName: preprocessed_comment, dtype: object"
     },
     "execution_count": 17,
     "metadata": {},
     "output_type": "execute_result"
    }
   ]
  },
  {
   "cell_type": "code",
   "source": [
    "y_test = df_test['map']\n",
    "y_test.head()"
   ],
   "metadata": {
    "execution": {
     "iopub.status.busy": "2023-06-02T14:28:49.937654Z",
     "iopub.execute_input": "2023-06-02T14:28:49.939356Z",
     "iopub.status.idle": "2023-06-02T14:28:49.953353Z",
     "shell.execute_reply.started": "2023-06-02T14:28:49.939271Z",
     "shell.execute_reply": "2023-06-02T14:28:49.952026Z"
    },
    "trusted": true,
    "ExecuteTime": {
     "end_time": "2023-06-05T13:52:33.556729700Z",
     "start_time": "2023-06-05T13:52:33.544337100Z"
    }
   },
   "execution_count": 18,
   "outputs": [
    {
     "data": {
      "text/plain": "0    1\n1    1\n2    1\n3    0\n4    1\nName: map, dtype: int64"
     },
     "execution_count": 18,
     "metadata": {},
     "output_type": "execute_result"
    }
   ]
  },
  {
   "cell_type": "code",
   "source": [
    "X_val = df_val['preprocessed_comment']\n",
    "X_val.head()"
   ],
   "metadata": {
    "execution": {
     "iopub.status.busy": "2023-06-02T14:28:49.957888Z",
     "iopub.execute_input": "2023-06-02T14:28:49.959183Z",
     "iopub.status.idle": "2023-06-02T14:28:49.975516Z",
     "shell.execute_reply.started": "2023-06-02T14:28:49.959133Z",
     "shell.execute_reply": "2023-06-02T14:28:49.973769Z"
    },
    "trusted": true,
    "ExecuteTime": {
     "end_time": "2023-06-05T13:52:35.406359100Z",
     "start_time": "2023-06-05T13:52:35.391295200Z"
    }
   },
   "execution_count": 19,
   "outputs": [
    {
     "data": {
      "text/plain": "0    I m feel quite sad and sorry for myself but il...\n1    I feel like I be still look at a blank canvas ...\n2                       I feel like a faithful servant\n3                       I be just feel cranky and blue\n4       I can have for a treat or if I be feel festive\nName: preprocessed_comment, dtype: object"
     },
     "execution_count": 19,
     "metadata": {},
     "output_type": "execute_result"
    }
   ]
  },
  {
   "cell_type": "code",
   "source": [
    "y_val = df_val['map']\n",
    "y_val.head()"
   ],
   "metadata": {
    "execution": {
     "iopub.status.busy": "2023-06-02T14:28:49.977324Z",
     "iopub.execute_input": "2023-06-02T14:28:49.978208Z",
     "iopub.status.idle": "2023-06-02T14:28:49.987800Z",
     "shell.execute_reply.started": "2023-06-02T14:28:49.978124Z",
     "shell.execute_reply": "2023-06-02T14:28:49.986739Z"
    },
    "trusted": true,
    "ExecuteTime": {
     "end_time": "2023-06-05T13:52:37.607926200Z",
     "start_time": "2023-06-05T13:52:37.582905500Z"
    }
   },
   "execution_count": 20,
   "outputs": [
    {
     "data": {
      "text/plain": "0    1\n1    1\n2    4\n3    2\n4    0\nName: map, dtype: int64"
     },
     "execution_count": 20,
     "metadata": {},
     "output_type": "execute_result"
    }
   ]
  },
  {
   "cell_type": "markdown",
   "source": [
    "## **Importing *Pipeline*, *TfidfVectorizer* and *RandomForestClassifier***"
   ],
   "metadata": {}
  },
  {
   "cell_type": "code",
   "source": [
    "from sklearn.pipeline import Pipeline\n",
    "from sklearn.feature_extraction.text import TfidfVectorizer\n",
    "from sklearn.ensemble import RandomForestClassifier"
   ],
   "metadata": {
    "execution": {
     "iopub.status.busy": "2023-06-02T14:28:49.989370Z",
     "iopub.execute_input": "2023-06-02T14:28:49.989791Z",
     "iopub.status.idle": "2023-06-02T14:28:50.590799Z",
     "shell.execute_reply.started": "2023-06-02T14:28:49.989753Z",
     "shell.execute_reply": "2023-06-02T14:28:50.589146Z"
    },
    "trusted": true,
    "ExecuteTime": {
     "end_time": "2023-06-05T13:52:16.316724500Z",
     "start_time": "2023-06-05T13:52:15.319660700Z"
    }
   },
   "execution_count": 13,
   "outputs": []
  },
  {
   "cell_type": "markdown",
   "source": [
    "## **Training the model**"
   ],
   "metadata": {}
  },
  {
   "cell_type": "code",
   "source": [
    "pipe = Pipeline([('vectorizer Tfidf', TfidfVectorizer()), ('Random Forest', RandomForestClassifier( n_estimators=200,\n",
    "    criterion='gini'))])\n",
    "\n",
    "pipe.fit(X_train, y_train)"
   ],
   "metadata": {
    "execution": {
     "iopub.status.busy": "2023-06-02T14:28:50.592773Z",
     "iopub.execute_input": "2023-06-02T14:28:50.593216Z",
     "iopub.status.idle": "2023-06-02T14:29:36.530964Z",
     "shell.execute_reply.started": "2023-06-02T14:28:50.593161Z",
     "shell.execute_reply": "2023-06-02T14:29:36.528733Z"
    },
    "trusted": true,
    "ExecuteTime": {
     "end_time": "2023-06-05T13:54:11.430391200Z",
     "start_time": "2023-06-05T13:52:40.425526100Z"
    }
   },
   "execution_count": 21,
   "outputs": [
    {
     "data": {
      "text/plain": "Pipeline(steps=[('vectorizer Tfidf', TfidfVectorizer()),\n                ('Random Forest', RandomForestClassifier(n_estimators=200))])",
      "text/html": "<style>#sk-container-id-1 {color: black;background-color: white;}#sk-container-id-1 pre{padding: 0;}#sk-container-id-1 div.sk-toggleable {background-color: white;}#sk-container-id-1 label.sk-toggleable__label {cursor: pointer;display: block;width: 100%;margin-bottom: 0;padding: 0.3em;box-sizing: border-box;text-align: center;}#sk-container-id-1 label.sk-toggleable__label-arrow:before {content: \"▸\";float: left;margin-right: 0.25em;color: #696969;}#sk-container-id-1 label.sk-toggleable__label-arrow:hover:before {color: black;}#sk-container-id-1 div.sk-estimator:hover label.sk-toggleable__label-arrow:before {color: black;}#sk-container-id-1 div.sk-toggleable__content {max-height: 0;max-width: 0;overflow: hidden;text-align: left;background-color: #f0f8ff;}#sk-container-id-1 div.sk-toggleable__content pre {margin: 0.2em;color: black;border-radius: 0.25em;background-color: #f0f8ff;}#sk-container-id-1 input.sk-toggleable__control:checked~div.sk-toggleable__content {max-height: 200px;max-width: 100%;overflow: auto;}#sk-container-id-1 input.sk-toggleable__control:checked~label.sk-toggleable__label-arrow:before {content: \"▾\";}#sk-container-id-1 div.sk-estimator input.sk-toggleable__control:checked~label.sk-toggleable__label {background-color: #d4ebff;}#sk-container-id-1 div.sk-label input.sk-toggleable__control:checked~label.sk-toggleable__label {background-color: #d4ebff;}#sk-container-id-1 input.sk-hidden--visually {border: 0;clip: rect(1px 1px 1px 1px);clip: rect(1px, 1px, 1px, 1px);height: 1px;margin: -1px;overflow: hidden;padding: 0;position: absolute;width: 1px;}#sk-container-id-1 div.sk-estimator {font-family: monospace;background-color: #f0f8ff;border: 1px dotted black;border-radius: 0.25em;box-sizing: border-box;margin-bottom: 0.5em;}#sk-container-id-1 div.sk-estimator:hover {background-color: #d4ebff;}#sk-container-id-1 div.sk-parallel-item::after {content: \"\";width: 100%;border-bottom: 1px solid gray;flex-grow: 1;}#sk-container-id-1 div.sk-label:hover label.sk-toggleable__label {background-color: #d4ebff;}#sk-container-id-1 div.sk-serial::before {content: \"\";position: absolute;border-left: 1px solid gray;box-sizing: border-box;top: 0;bottom: 0;left: 50%;z-index: 0;}#sk-container-id-1 div.sk-serial {display: flex;flex-direction: column;align-items: center;background-color: white;padding-right: 0.2em;padding-left: 0.2em;position: relative;}#sk-container-id-1 div.sk-item {position: relative;z-index: 1;}#sk-container-id-1 div.sk-parallel {display: flex;align-items: stretch;justify-content: center;background-color: white;position: relative;}#sk-container-id-1 div.sk-item::before, #sk-container-id-1 div.sk-parallel-item::before {content: \"\";position: absolute;border-left: 1px solid gray;box-sizing: border-box;top: 0;bottom: 0;left: 50%;z-index: -1;}#sk-container-id-1 div.sk-parallel-item {display: flex;flex-direction: column;z-index: 1;position: relative;background-color: white;}#sk-container-id-1 div.sk-parallel-item:first-child::after {align-self: flex-end;width: 50%;}#sk-container-id-1 div.sk-parallel-item:last-child::after {align-self: flex-start;width: 50%;}#sk-container-id-1 div.sk-parallel-item:only-child::after {width: 0;}#sk-container-id-1 div.sk-dashed-wrapped {border: 1px dashed gray;margin: 0 0.4em 0.5em 0.4em;box-sizing: border-box;padding-bottom: 0.4em;background-color: white;}#sk-container-id-1 div.sk-label label {font-family: monospace;font-weight: bold;display: inline-block;line-height: 1.2em;}#sk-container-id-1 div.sk-label-container {text-align: center;}#sk-container-id-1 div.sk-container {/* jupyter's `normalize.less` sets `[hidden] { display: none; }` but bootstrap.min.css set `[hidden] { display: none !important; }` so we also need the `!important` here to be able to override the default hidden behavior on the sphinx rendered scikit-learn.org. See: https://github.com/scikit-learn/scikit-learn/issues/21755 */display: inline-block !important;position: relative;}#sk-container-id-1 div.sk-text-repr-fallback {display: none;}</style><div id=\"sk-container-id-1\" class=\"sk-top-container\"><div class=\"sk-text-repr-fallback\"><pre>Pipeline(steps=[(&#x27;vectorizer Tfidf&#x27;, TfidfVectorizer()),\n                (&#x27;Random Forest&#x27;, RandomForestClassifier(n_estimators=200))])</pre><b>In a Jupyter environment, please rerun this cell to show the HTML representation or trust the notebook. <br />On GitHub, the HTML representation is unable to render, please try loading this page with nbviewer.org.</b></div><div class=\"sk-container\" hidden><div class=\"sk-item sk-dashed-wrapped\"><div class=\"sk-label-container\"><div class=\"sk-label sk-toggleable\"><input class=\"sk-toggleable__control sk-hidden--visually\" id=\"sk-estimator-id-1\" type=\"checkbox\" ><label for=\"sk-estimator-id-1\" class=\"sk-toggleable__label sk-toggleable__label-arrow\">Pipeline</label><div class=\"sk-toggleable__content\"><pre>Pipeline(steps=[(&#x27;vectorizer Tfidf&#x27;, TfidfVectorizer()),\n                (&#x27;Random Forest&#x27;, RandomForestClassifier(n_estimators=200))])</pre></div></div></div><div class=\"sk-serial\"><div class=\"sk-item\"><div class=\"sk-estimator sk-toggleable\"><input class=\"sk-toggleable__control sk-hidden--visually\" id=\"sk-estimator-id-2\" type=\"checkbox\" ><label for=\"sk-estimator-id-2\" class=\"sk-toggleable__label sk-toggleable__label-arrow\">TfidfVectorizer</label><div class=\"sk-toggleable__content\"><pre>TfidfVectorizer()</pre></div></div></div><div class=\"sk-item\"><div class=\"sk-estimator sk-toggleable\"><input class=\"sk-toggleable__control sk-hidden--visually\" id=\"sk-estimator-id-3\" type=\"checkbox\" ><label for=\"sk-estimator-id-3\" class=\"sk-toggleable__label sk-toggleable__label-arrow\">RandomForestClassifier</label><div class=\"sk-toggleable__content\"><pre>RandomForestClassifier(n_estimators=200)</pre></div></div></div></div></div></div></div>"
     },
     "execution_count": 21,
     "metadata": {},
     "output_type": "execute_result"
    }
   ]
  },
  {
   "cell_type": "markdown",
   "source": [
    "## **Predicting on Test Data**"
   ],
   "metadata": {}
  },
  {
   "cell_type": "code",
   "source": [
    "y_pred = pipe.predict(X_test)\n",
    "y_pred_test = pd.Series(y_pred)\n",
    "y_pred_test.head()"
   ],
   "metadata": {
    "execution": {
     "iopub.status.busy": "2023-06-02T14:29:36.532983Z",
     "iopub.execute_input": "2023-06-02T14:29:36.533517Z",
     "iopub.status.idle": "2023-06-02T14:29:37.072207Z",
     "shell.execute_reply.started": "2023-06-02T14:29:36.533466Z",
     "shell.execute_reply": "2023-06-02T14:29:37.070775Z"
    },
    "trusted": true,
    "ExecuteTime": {
     "end_time": "2023-06-05T14:02:11.091208300Z",
     "start_time": "2023-06-05T14:02:10.813722500Z"
    }
   },
   "execution_count": 22,
   "outputs": [
    {
     "data": {
      "text/plain": "0    1\n1    1\n2    1\n3    0\n4    1\ndtype: int64"
     },
     "execution_count": 22,
     "metadata": {},
     "output_type": "execute_result"
    }
   ]
  },
  {
   "cell_type": "markdown",
   "source": [
    "## **Classification Report , Confusion Matrix and Heatmap on *TEST DATA***"
   ],
   "metadata": {}
  },
  {
   "cell_type": "code",
   "source": [
    "from sklearn.metrics import classification_report\n",
    "\n",
    "print('Classification Report TEST DATA  :\\n\\n\\n ', classification_report(y_test, y_pred_test))"
   ],
   "metadata": {
    "execution": {
     "iopub.status.busy": "2023-06-02T14:29:37.073852Z",
     "iopub.execute_input": "2023-06-02T14:29:37.075025Z",
     "iopub.status.idle": "2023-06-02T14:29:37.093143Z",
     "shell.execute_reply.started": "2023-06-02T14:29:37.074969Z",
     "shell.execute_reply": "2023-06-02T14:29:37.091397Z"
    },
    "trusted": true,
    "ExecuteTime": {
     "end_time": "2023-06-05T14:02:14.918199800Z",
     "start_time": "2023-06-05T14:02:14.868642700Z"
    }
   },
   "execution_count": 23,
   "outputs": [
    {
     "name": "stdout",
     "output_type": "stream",
     "text": [
      "Classification Report TEST DATA  :\n",
      "\n",
      "\n",
      "                precision    recall  f1-score   support\n",
      "\n",
      "           0       0.79      0.94      0.86       695\n",
      "           1       0.91      0.88      0.89       581\n",
      "           2       0.90      0.78      0.83       275\n",
      "           3       0.82      0.79      0.80       224\n",
      "           4       0.81      0.53      0.64       159\n",
      "           5       0.64      0.53      0.58        66\n",
      "\n",
      "    accuracy                           0.84      2000\n",
      "   macro avg       0.81      0.74      0.77      2000\n",
      "weighted avg       0.84      0.84      0.83      2000\n",
      "\n"
     ]
    }
   ]
  },
  {
   "cell_type": "markdown",
   "source": [
    "## **Predicting on Val Data**"
   ],
   "metadata": {}
  },
  {
   "cell_type": "code",
   "source": [
    "y_predi = pipe.predict(X_val)\n",
    "y_pred_val = pd.Series(y_predi)\n",
    "y_pred_val.head()"
   ],
   "metadata": {
    "execution": {
     "iopub.status.busy": "2023-06-02T14:29:37.909971Z",
     "iopub.execute_input": "2023-06-02T14:29:37.911165Z",
     "iopub.status.idle": "2023-06-02T14:29:38.406964Z",
     "shell.execute_reply.started": "2023-06-02T14:29:37.911115Z",
     "shell.execute_reply": "2023-06-02T14:29:38.405059Z"
    },
    "trusted": true,
    "ExecuteTime": {
     "end_time": "2023-06-05T14:02:19.223462500Z",
     "start_time": "2023-06-05T14:02:18.914647700Z"
    }
   },
   "execution_count": 24,
   "outputs": [
    {
     "data": {
      "text/plain": "0    1\n1    1\n2    1\n3    2\n4    0\ndtype: int64"
     },
     "execution_count": 24,
     "metadata": {},
     "output_type": "execute_result"
    }
   ]
  },
  {
   "cell_type": "markdown",
   "source": [
    "## **Classification Report , Confusion Matrix and Heatmap on *VAL DATA***"
   ],
   "metadata": {}
  },
  {
   "cell_type": "code",
   "source": [
    "print('Classification Report VAL DATA  :\\n\\n\\n ', classification_report(y_val, y_pred_val))"
   ],
   "metadata": {
    "execution": {
     "iopub.status.busy": "2023-06-02T14:29:38.409952Z",
     "iopub.execute_input": "2023-06-02T14:29:38.410620Z",
     "iopub.status.idle": "2023-06-02T14:29:38.430782Z",
     "shell.execute_reply.started": "2023-06-02T14:29:38.410559Z",
     "shell.execute_reply": "2023-06-02T14:29:38.428781Z"
    },
    "trusted": true
   },
   "execution_count": null,
   "outputs": []
  },
  {
   "cell_type": "code",
   "source": [
    "def transcript_emotion (string):\n",
    "    arr_emotions = ['joy', 'sadness', 'anger', 'fear', 'love', 'surprise']\n",
    "    pred = pipe.predict([string])\n",
    "    print(pred[0])\n",
    "    emotion = arr_emotions[pred[0]]\n",
    "\n",
    "    print(\"ce texte est : \", emotion)\n",
    "    \n",
    "transcript_emotion(\"I don't want to not do it well\")"
   ],
   "metadata": {
    "execution": {
     "iopub.status.busy": "2023-06-02T14:47:12.305708Z",
     "iopub.execute_input": "2023-06-02T14:47:12.306186Z",
     "iopub.status.idle": "2023-06-02T14:47:12.355491Z",
     "shell.execute_reply.started": "2023-06-02T14:47:12.306144Z",
     "shell.execute_reply": "2023-06-02T14:47:12.353586Z"
    },
    "trusted": true,
    "ExecuteTime": {
     "end_time": "2023-06-05T14:02:21.680749800Z",
     "start_time": "2023-06-05T14:02:21.624587800Z"
    }
   },
   "execution_count": 25,
   "outputs": [
    {
     "name": "stdout",
     "output_type": "stream",
     "text": [
      "0\n",
      "ce texte est :  joy\n"
     ]
    }
   ]
  }
 ]
}
